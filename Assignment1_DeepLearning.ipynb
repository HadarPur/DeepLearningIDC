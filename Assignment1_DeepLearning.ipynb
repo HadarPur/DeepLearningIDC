{
  "nbformat": 4,
  "nbformat_minor": 0,
  "metadata": {
    "colab": {
      "name": "Copy of Assignment 1 - Deep learning",
      "provenance": [],
      "collapsed_sections": []
    },
    "kernelspec": {
      "display_name": "Python 3",
      "name": "python3"
    }
  },
  "cells": [
    {
      "cell_type": "markdown",
      "metadata": {
        "id": "SE6qcw_j8Pi2"
      },
      "source": [
        "In this homework assignment, you are requested to implement a full backprop algorithm using only *numpy*.\n",
        "\n",
        "- We assume sigmoid activation across all layers.\n",
        "- We assume a single value in the output layer\n",
        "\n",
        "Submitted:\n",
        "\n",
        "*   Hadar Pur\n",
        "*   Rotem Feinblat\n",
        "\n"
      ]
    },
    {
      "cell_type": "code",
      "metadata": {
        "id": "UV4RvXYL8k85"
      },
      "source": [
        "import numpy as np\n",
        "from sklearn.utils import shuffle\n",
        "\n",
        "seed = np.random.seed(42)"
      ],
      "execution_count": null,
      "outputs": []
    },
    {
      "cell_type": "markdown",
      "metadata": {
        "id": "SRml6glFIPCa"
      },
      "source": [
        "The following class represents a simple feed forward network with multiple layers. The network class provides methods for running forward and backward for a single instance, throught the network. You should implement the methods (indicated with TODO), that performs forward and backward for an entire batch. Note, the idea is to use matrix multiplications, and not running standard loops over the instances in the batch."
      ]
    },
    {
      "cell_type": "code",
      "metadata": {
        "id": "Qib6W4QXO644"
      },
      "source": [
        "nn = MyNN(0.01, [3, 2, 1])"
      ],
      "execution_count": null,
      "outputs": []
    },
    {
      "cell_type": "code",
      "metadata": {
        "id": "4nQR8QllPf_5",
        "colab": {
          "base_uri": "https://localhost:8080/"
        },
        "outputId": "fed231a4-033e-4acf-f6ea-b4fcc9024913"
      },
      "source": [
        "nn.model_params"
      ],
      "execution_count": null,
      "outputs": [
        {
          "output_type": "execute_result",
          "data": {
            "text/plain": [
              "{'W_1': array([[ 0.04967142, -0.01382643,  0.06476885],\n",
              "        [ 0.15230299, -0.02341534, -0.0234137 ]]),\n",
              " 'W_2': array([[-0.04694744,  0.054256  ]]),\n",
              " 'b_1': array([0.15792128, 0.07674347]),\n",
              " 'b_2': array([-0.04634177])}"
            ]
          },
          "metadata": {
            "tags": []
          },
          "execution_count": 5
        }
      ]
    },
    {
      "cell_type": "code",
      "metadata": {
        "id": "VXiyn-yrPC6-",
        "colab": {
          "base_uri": "https://localhost:8080/"
        },
        "outputId": "cb4e88b0-47b8-498b-9d77-8e6d280b2e96"
      },
      "source": [
        "x = np.random.randn(3)\n",
        "y = np.random.randn(1)\n",
        "\n",
        "y_hat = nn.forward_single_instance(x)\n",
        "print(y_hat)"
      ],
      "execution_count": null,
      "outputs": [
        {
          "output_type": "stream",
          "text": [
            "[0.48946]\n"
          ],
          "name": "stdout"
        }
      ]
    },
    {
      "cell_type": "code",
      "metadata": {
        "id": "k5M50i3plclj",
        "colab": {
          "base_uri": "https://localhost:8080/"
        },
        "outputId": "33cdb67a-d86f-4710-8b05-08a8be79b133"
      },
      "source": [
        "nn.backward_single_instance(y)"
      ],
      "execution_count": null,
      "outputs": [
        {
          "output_type": "stream",
          "text": [
            "2\n",
            "1\n"
          ],
          "name": "stdout"
        }
      ]
    },
    {
      "cell_type": "code",
      "metadata": {
        "id": "CWnZB1YmYnIt"
      },
      "source": [
        "def train(X, y, epochs, batch_size):\n",
        "  '''\n",
        "  Train procedure, please note the TODOs inside\n",
        "  '''\n",
        "  loss_vec=[]\n",
        "  for e in range(1, epochs + 1):\n",
        "    epoch_loss = 0\n",
        "    shuffle_X, shuffle_y = shuffle(X.T, y.T, random_state=seed) # DONE: Shuffle\n",
        "    batch_array = np.array_split(list(zip(shuffle_X, shuffle_y)), len(shuffle_X) // batch_size)\n",
        "    batches = [zip(*batch) for batch in batch_array]  # DONE: divide to batches\n",
        "    for X_b, y_b in batches:\n",
        "      y_b = np.array(y_b)\n",
        "      X_b = np.array(X_b)\n",
        "      y_hat = nn.forward_batch(X_b)\n",
        "      epoch_loss += nn.log_loss_batch(y_hat, y_b.T)\n",
        "      nn.backward_batch(y_b)\n",
        "      nn.update()\n",
        "    loss_calc=epoch_loss/len(batches)\n",
        "    loss_vec.append(loss_calc)\n",
        "    # print(f'Epoch {e}, loss={epoch_loss/len(batches)}')\n",
        "  return (loss_vec)"
      ],
      "execution_count": null,
      "outputs": []
    },
    {
      "cell_type": "code",
      "metadata": {
        "id": "kLdNoCt58qg5"
      },
      "source": [
        "class MyNN:\n",
        "  def __init__(self, learning_rate, layer_sizes):\n",
        "    '''\n",
        "    learning_rate - the learning to use in backward\n",
        "    layer_sizes - a list of numbers, each number repreents the nuber of neurons\n",
        "                  to have in every layer. Therfore, the length of the list \n",
        "                  represents the number layers this network has.\n",
        "    '''\n",
        "    self.learning_rate = learning_rate\n",
        "    self.layer_sizes = layer_sizes\n",
        "    self.model_params = {}\n",
        "    self.memory = {}\n",
        "    self.grads = {}\n",
        "    \n",
        "    # Initializing weights\n",
        "    for layer_index in range(len(layer_sizes) - 1):\n",
        "      W_input = layer_sizes[layer_index + 1]\n",
        "      W_output = layer_sizes[layer_index]\n",
        "      self.model_params['W_' + str(layer_index + 1)] = np.random.randn(W_input, W_output) * 0.1\n",
        "      self.model_params['b_' + str(layer_index + 1)] = np.random.randn(W_input) * 0.1\n",
        "      \n",
        "      \n",
        "  def forward_single_instance(self, x):    \n",
        "    a_i_1 = x\n",
        "    self.memory['a_0'] = x\n",
        "    for layer_index in range(len(self.layer_sizes) - 1):\n",
        "      W_i = self.model_params['W_' + str(layer_index + 1)]\n",
        "      b_i = self.model_params['b_' + str(layer_index + 1)]\n",
        "      z_i = np.dot(W_i, a_i_1) + b_i\n",
        "      a_i = 1/(1+np.exp(-z_i))\n",
        "      self.memory['a_' + str(layer_index + 1)] = a_i\n",
        "      a_i_1 = a_i\n",
        "    return a_i_1\n",
        "  \n",
        "  \n",
        "  def log_loss(self, y_hat, y):\n",
        "    '''\n",
        "    Logistic loss, assuming a single value in y_hat and y.\n",
        "    '''\n",
        "    m = y_hat[0]\n",
        "    cost = -y[0]*np.log(y_hat[0]) - (1 - y[0])*np.log(1 - y_hat[0])\n",
        "    return cost\n",
        "    \n",
        "  \n",
        "  def backward_single_instance(self, y):\n",
        "    a_output = self.memory['a_' + str(len(self.layer_sizes) - 1)]\n",
        "    dz = a_output - y\n",
        "     \n",
        "    for layer_index in range(len(self.layer_sizes) - 1, 0, -1):\n",
        "      print(layer_index)\n",
        "      a_l_1 = self.memory['a_' + str(layer_index - 1)]\n",
        "      dW = np.dot(dz.reshape(-1, 1), a_l_1.reshape(1, -1))\n",
        "      self.grads['dW_' + str(layer_index)] = dW\n",
        "      W_l = self.model_params['W_' + str(layer_index)]\n",
        "      # DONE: Calculate and memorize db, needs to be done befor calculating the next dz\n",
        "      db = dz\n",
        "      self.grads['db_' + str(layer_index)] = db\n",
        "      dz = (a_l_1 * (1 - a_l_1)).reshape(-1, 1) * np.dot(W_l.T, dz.reshape(-1, 1))\n",
        "\n",
        "  \n",
        "  # DONE: Update weights with grads\n",
        "  def update(self): \n",
        "    for layer_index in range(len(self.layer_sizes) - 1, 0, -1):\n",
        "      # current layer\n",
        "      Wi = 'W_' + str(layer_index)\n",
        "      bi = 'b_' + str(layer_index)\n",
        "      dWi = 'dW_' + str(layer_index)       \n",
        "      dbi = 'db_' + str(layer_index)\n",
        "\n",
        "      # take the values for current layer from the storage\n",
        "      Wi_update = self.model_params[Wi]\n",
        "      bi_update = self.model_params[bi]\n",
        "      dWi_update = self.grads[dWi]\n",
        "      dbi_update = self.grads[dbi]\n",
        "\n",
        "      # update the values to the new one\n",
        "      self.model_params[Wi] = Wi_update - self.learning_rate * dWi_update\n",
        "      self.model_params[bi] = bi_update - self.learning_rate * dbi_update\n",
        "\n",
        "  \n",
        "  # # DONE: implement forward for a batch X.shape = (network_input_size, number_of_instance)\n",
        "  def forward_batch(self, X): \n",
        "    a_i_1 = X\n",
        "    self.memory['a_0'] = X\n",
        "    for layer_index in range(len(self.layer_sizes) - 1):\n",
        "      W_i = self.model_params['W_' + str(layer_index + 1)]\n",
        "      b_i = self.model_params['b_' + str(layer_index + 1)]\n",
        "      z_i = np.dot(W_i, a_i_1.T).T + b_i\n",
        "      a_i = 1/(1+np.exp(-z_i))\n",
        "      self.memory['a_' + str(layer_index + 1)] = a_i\n",
        "      a_i_1 = a_i\n",
        "    return a_i_1  \n",
        "\n",
        "    return np.array([self.forward_single_instance(x_i) for x_i in X])\n",
        "\n",
        "  # # DONE: implement backward for a batch y.shape = (1, number_of_instance)\n",
        "  def backward_batch(self, y):\n",
        "    batchSize = len(y) \n",
        "    a_output = self.memory['a_' + str(len(self.layer_sizes) - 1)]\n",
        "    dz = a_output - y\n",
        "     \n",
        "    for layer_index in range(len(self.layer_sizes) - 1, 0, -1):\n",
        "      a_l_1 = self.memory['a_' + str(layer_index - 1)]\n",
        "      dW = np.dot(dz.reshape(-1, batchSize), a_l_1.reshape(batchSize, -1)) / batch_size # added divide dW by batch_size \n",
        "      self.grads['dW_' + str(layer_index)] = dW\n",
        "      W_l = self.model_params['W_' + str(layer_index)]\n",
        "      db = np.mean(dz)\n",
        "      self.grads['db_' + str(layer_index)] = db\n",
        "      dz = (a_l_1 * (1 - a_l_1)).T  * np.dot(W_l.T, dz.reshape(-1, batchSize))\n",
        "\n",
        "  # DONE: Implement log_loss_batch, for a batch of instances\n",
        "  def log_loss_batch(self, y_hat, y):\n",
        "    cost_array = []\n",
        "    for y_i_hat, y_i in zip(y_hat.flatten(), y.flatten()):\n",
        "      cost = -y_i*np.log(y_i_hat) - (1 - y_i)*np.log(1 - y_i_hat)\n",
        "      cost_array.append(cost)\n",
        "\n",
        "    return np.mean(cost_array)\n"
      ],
      "execution_count": null,
      "outputs": []
    },
    {
      "cell_type": "code",
      "metadata": {
        "colab": {
          "base_uri": "https://localhost:8080/"
        },
        "id": "cE1ydWlatkty",
        "outputId": "621f58de-e786-42c6-c586-d3a08bdc75cf"
      },
      "source": [
        "# Done: Make sure the following network trains properly\n",
        "\n",
        "nn = MyNN(0.001, [6, 4, 3, 1])\n",
        "\n",
        "X = np.random.randn(6, 100)\n",
        "y = np.random.randn(1, 100)\n",
        "\n",
        "batch_size = 8\n",
        "epochs = 2\n",
        "\n",
        "train(X, y, epochs, batch_size)"
      ],
      "execution_count": null,
      "outputs": [
        {
          "output_type": "execute_result",
          "data": {
            "text/plain": [
              "[0.6408060900030358, 0.6116329334363105]"
            ]
          },
          "metadata": {
            "tags": []
          },
          "execution_count": 18
        }
      ]
    },
    {
      "cell_type": "markdown",
      "metadata": {
        "id": "6dY4scUksulC"
      },
      "source": [
        "#TODO: train on an external dataset\n",
        "\n",
        "Train on the Bike Sharing dataset, using the same split as in *DL Notebook 4 - logistic regression*.\n",
        "Use the following features from the data:\n",
        "\n",
        "* temp\n",
        "* atemp\n",
        "* hum\n",
        "* windspeed\n",
        "* weekday\n",
        "\n",
        "The response variable is, like in Notebook 4, raw[\"success\"] = raw[\"cnt\"] > (raw[\"cnt\"].describe()[\"mean\"]).\n",
        "\n",
        "The architecture of the network should be: [5, 40, 30, 10, 7, 5, 3, 1].\n",
        "\n",
        "Use batch_size=8, and train it for 100 epochs on the train set (based on the split as requested above).\n",
        "\n",
        "Then, plot loss per epoch."
      ]
    },
    {
      "cell_type": "code",
      "metadata": {
        "id": "UILveQjwl6rg"
      },
      "source": [
        "# TODO: your code goes here\n",
        "import pandas as pd\n",
        "import matplotlib.pyplot as plt"
      ],
      "execution_count": null,
      "outputs": []
    },
    {
      "cell_type": "code",
      "metadata": {
        "colab": {
          "base_uri": "https://localhost:8080/"
        },
        "id": "qGWzzElxl-re",
        "outputId": "511825bd-676c-4b6a-8245-1621ffd77bc1"
      },
      "source": [
        "!git clone https://github.com/kfirbar/course-ml-data.git"
      ],
      "execution_count": null,
      "outputs": [
        {
          "output_type": "stream",
          "text": [
            "Cloning into 'course-ml-data'...\n",
            "remote: Enumerating objects: 18, done.\u001b[K\n",
            "remote: Counting objects: 100% (18/18), done.\u001b[K\n",
            "remote: Compressing objects: 100% (14/14), done.\u001b[K\n",
            "remote: Total 18 (delta 1), reused 9 (delta 0), pack-reused 0\u001b[K\n",
            "Unpacking objects: 100% (18/18), done.\n"
          ],
          "name": "stdout"
        }
      ]
    },
    {
      "cell_type": "code",
      "metadata": {
        "colab": {
          "base_uri": "https://localhost:8080/",
          "height": 467
        },
        "id": "NJ4q2K_5tldK",
        "outputId": "178fe4e0-35d1-434d-8574-842a0d546936"
      },
      "source": [
        "import pandas as pd\r\n",
        "import matplotlib.pyplot as plt\r\n",
        "\r\n",
        "# loading the data\r\n",
        "raw = pd.read_csv('course-ml-data/Bike-Sharing-Dataset 2/day.csv')\r\n",
        "##raw[\"cnt\"].describe()\r\n",
        "##The response variable is:\r\n",
        "raw[\"success\"] = raw[\"cnt\"] > (raw[\"cnt\"].describe()[\"mean\"])\r\n",
        "##raw.head()\r\n",
        "\r\n",
        "##the requested features : \r\n",
        "x =  np.array(raw[['temp', 'atemp', 'hum', 'windspeed', 'weekday']].T)\r\n",
        "y = np.array(raw['success'].astype('int64').values[np.newaxis, :])\r\n",
        "\r\n",
        "##The architecture of the network :\r\n",
        "nn = MyNN(0.001,  [5, 40, 30, 10, 7, 5, 3, 1])\r\n",
        "batch_size=8\r\n",
        "epochs = 100\r\n",
        "\r\n",
        "epoch_arr=list(range(1,epochs+1))\r\n",
        "loss_arr=train(x, y, epochs, batch_size)\r\n",
        "\r\n",
        "plt.figure(figsize = (10, 7))\r\n",
        "plt.plot(epoch_arr,loss_arr,'-o', color='gold', mfc='b', mec='b', markersize=4, linewidth=2, label='Loss')\r\n",
        "plt.title('Loss per epoch', fontsize = 20, weight='bold')\r\n",
        "plt.xlabel('Epoch', fontsize = 14, weight='bold')\r\n",
        "plt.ylabel('Loss', fontsize = 14, weight='bold')\r\n",
        "plt.grid();\r\n",
        "plt.show();"
      ],
      "execution_count": null,
      "outputs": [
        {
          "output_type": "display_data",
          "data": {
            "image/png": "[encoded data removed]",
            "text/plain": [
              "<Figure size 720x504 with 1 Axes>"
            ]
          },
          "metadata": {
            "tags": [],
            "needs_background": "light"
          }
        }
      ]
    }
  ]
}